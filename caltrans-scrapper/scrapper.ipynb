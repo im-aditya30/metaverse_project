{
 "cells": [
  {
   "cell_type": "markdown",
   "metadata": {},
   "source": [
    "# CalTrans-PeMS\n",
    "### 1. Get Data"
   ]
  },
  {
   "cell_type": "markdown",
   "metadata": {},
   "source": [
    "# Setup Notebook"
   ]
  },
  {
   "cell_type": "code",
   "execution_count": 1,
   "metadata": {},
   "outputs": [],
   "source": [
    "# Import 3rd party libraries\n",
    "import os\n",
    "import sys\n",
    "import pandas as pd\n",
    "\n",
    "# Local imports\n",
    "sys.path.insert(0, os.path.dirname(os.path.abspath(os.getcwd())))\n",
    "from pems.handler import PeMSHandler\n",
    "\n",
    "# Configure Notebook\n",
    "import warnings\n",
    "import datetime\n",
    "warnings.filterwarnings('ignore')\n",
    "%matplotlib inline\n",
    "%load_ext autoreload\n",
    "%autoreload 2"
   ]
  },
  {
   "cell_type": "markdown",
   "metadata": {},
   "source": [
    "#### Get PeMS Data"
   ]
  },
  {
   "cell_type": "code",
   "execution_count": null,
   "metadata": {},
   "outputs": [],
   "source": [
    "USERNAME = ''\n",
    "PASSWORD = ''"
   ]
  },
  {
   "cell_type": "code",
   "execution_count": 2,
   "metadata": {},
   "outputs": [
    {
     "name": "stdout",
     "output_type": "stream",
     "text": [
      "2022-04-01 15:08:22,905 [INFO    ] Requesting initial page...\n",
      "2022-04-01 15:08:25,947 [INFO    ] Initial page opened.\n",
      "2022-04-01 15:08:26,284 [INFO    ] Logging in...\n",
      "2022-04-01 15:08:35,930 [INFO    ] Logged in.\n"
     ]
    }
   ],
   "source": [
    "pems = PeMSHandler(username=USERNAME, password=PASSWORD)"
   ]
  },
  {
   "cell_type": "code",
   "execution_count": 3,
   "metadata": {},
   "outputs": [],
   "source": [
    "date = []\n",
    "for i in range(1,29):\n",
    "    date.append(datetime.datetime(2021,2,i))"
   ]
  },
  {
   "cell_type": "code",
   "execution_count": null,
   "metadata": {},
   "outputs": [],
   "source": [
    "pems.get_data(start_time=date,name='speed',ext='speed')"
   ]
  },
  {
   "cell_type": "code",
   "execution_count": null,
   "metadata": {},
   "outputs": [],
   "source": [
    "pems.get_data(start_time=date,name='occupancy',ext='occ')"
   ]
  },
  {
   "cell_type": "code",
   "execution_count": null,
   "metadata": {},
   "outputs": [],
   "source": [
    "pems.get_data(start_time=date,name='flow',ext='flow')"
   ]
  },
  {
   "cell_type": "code",
   "execution_count": 5,
   "metadata": {
    "scrolled": false
   },
   "outputs": [
    {
     "name": "stdout",
     "output_type": "stream",
     "text": [
      "2022-04-01 15:33:57,680 [INFO    ] Start download, spatial_delay_60_1Feb.xlsx\n",
      "2022-04-01 15:35:03,121 [INFO    ] Download completed\n",
      "2022-04-01 15:35:03,122 [INFO    ] Start download, spatial_delay_60_2Feb.xlsx\n",
      "2022-04-01 15:36:20,394 [INFO    ] Download completed\n",
      "2022-04-01 15:36:20,401 [INFO    ] Start download, spatial_delay_60_3Feb.xlsx\n",
      "2022-04-01 15:37:30,918 [INFO    ] Download completed\n",
      "2022-04-01 15:37:30,919 [INFO    ] Start download, spatial_delay_60_4Feb.xlsx\n",
      "2022-04-01 15:38:41,481 [INFO    ] Download completed\n",
      "2022-04-01 15:38:41,482 [INFO    ] Start download, spatial_delay_60_5Feb.xlsx\n",
      "2022-04-01 15:39:52,316 [INFO    ] Download completed\n",
      "2022-04-01 15:39:52,317 [INFO    ] Start download, spatial_delay_60_6Feb.xlsx\n",
      "2022-04-01 15:41:05,175 [INFO    ] Download completed\n",
      "2022-04-01 15:41:05,176 [INFO    ] Start download, spatial_delay_60_7Feb.xlsx\n",
      "2022-04-01 15:42:14,332 [INFO    ] Download completed\n",
      "2022-04-01 15:42:14,334 [INFO    ] Start download, spatial_delay_60_8Feb.xlsx\n",
      "2022-04-01 15:43:34,951 [INFO    ] Download completed\n",
      "2022-04-01 15:43:34,953 [INFO    ] Start download, spatial_delay_60_9Feb.xlsx\n",
      "2022-04-01 15:44:57,246 [INFO    ] Download completed\n",
      "2022-04-01 15:44:57,246 [INFO    ] Start download, spatial_delay_60_10Feb.xlsx\n",
      "2022-04-01 15:46:11,310 [INFO    ] Download completed\n",
      "2022-04-01 15:46:11,311 [INFO    ] Start download, spatial_delay_60_11Feb.xlsx\n",
      "2022-04-01 15:51:50,918 [INFO    ] Download completed\n",
      "2022-04-01 15:51:50,919 [INFO    ] Start download, spatial_delay_60_12Feb.xlsx\n",
      "2022-04-01 15:53:10,301 [INFO    ] Download completed\n",
      "2022-04-01 15:53:10,302 [INFO    ] Start download, spatial_delay_60_13Feb.xlsx\n",
      "2022-04-01 15:59:26,248 [INFO    ] Download completed\n",
      "2022-04-01 15:59:26,249 [INFO    ] Start download, spatial_delay_60_14Feb.xlsx\n",
      "2022-04-01 16:06:16,126 [INFO    ] Download completed\n",
      "2022-04-01 16:06:16,129 [INFO    ] Start download, spatial_delay_60_15Feb.xlsx\n",
      "2022-04-01 16:07:43,304 [INFO    ] Download completed\n",
      "2022-04-01 16:07:43,305 [INFO    ] Start download, spatial_delay_60_16Feb.xlsx\n",
      "2022-04-01 16:09:03,698 [INFO    ] Download completed\n",
      "2022-04-01 16:09:03,700 [INFO    ] Start download, spatial_delay_60_17Feb.xlsx\n",
      "2022-04-01 16:10:25,243 [INFO    ] Download completed\n",
      "2022-04-01 16:10:25,245 [INFO    ] Start download, spatial_delay_60_18Feb.xlsx\n",
      "2022-04-01 16:11:41,101 [INFO    ] Download completed\n",
      "2022-04-01 16:11:41,103 [INFO    ] Start download, spatial_delay_60_19Feb.xlsx\n",
      "2022-04-01 16:17:05,470 [INFO    ] Download completed\n",
      "2022-04-01 16:17:05,471 [INFO    ] Start download, spatial_delay_60_20Feb.xlsx\n",
      "2022-04-01 16:18:25,888 [INFO    ] Download completed\n",
      "2022-04-01 16:18:25,888 [INFO    ] Start download, spatial_delay_60_21Feb.xlsx\n",
      "2022-04-01 16:19:44,172 [INFO    ] Download completed\n",
      "2022-04-01 16:19:44,173 [INFO    ] Start download, spatial_delay_60_22Feb.xlsx\n",
      "2022-04-01 16:21:00,333 [INFO    ] Download completed\n",
      "2022-04-01 16:21:00,334 [INFO    ] Start download, spatial_delay_60_23Feb.xlsx\n",
      "2022-04-01 16:22:10,510 [INFO    ] Download completed\n",
      "2022-04-01 16:22:10,513 [INFO    ] Start download, spatial_delay_60_24Feb.xlsx\n",
      "2022-04-01 16:23:16,908 [INFO    ] Download completed\n",
      "2022-04-01 16:23:16,909 [INFO    ] Start download, spatial_delay_60_25Feb.xlsx\n",
      "2022-04-01 16:24:33,896 [INFO    ] Download completed\n",
      "2022-04-01 16:24:33,897 [INFO    ] Start download, spatial_delay_60_26Feb.xlsx\n",
      "2022-04-01 16:30:03,803 [INFO    ] Download completed\n",
      "2022-04-01 16:30:03,804 [INFO    ] Start download, spatial_delay_60_27Feb.xlsx\n",
      "2022-04-01 16:31:09,951 [INFO    ] Download completed\n",
      "2022-04-01 16:31:09,952 [INFO    ] Start download, spatial_delay_60_28Feb.xlsx\n",
      "2022-04-01 16:32:21,485 [INFO    ] Download completed\n"
     ]
    }
   ],
   "source": [
    "for i in range(35,65,5):\n",
    "    pems.get_data(start_time=date,name='delay_'+str(i), ext='del_'+str(i))"
   ]
  }
 ],
 "metadata": {
  "kernelspec": {
   "display_name": "Python 3",
   "language": "python",
   "name": "python3"
  },
  "language_info": {
   "codemirror_mode": {
    "name": "ipython",
    "version": 3
   },
   "file_extension": ".py",
   "mimetype": "text/x-python",
   "name": "python",
   "nbconvert_exporter": "python",
   "pygments_lexer": "ipython3",
   "version": "3.8.1"
  }
 },
 "nbformat": 4,
 "nbformat_minor": 4
}
